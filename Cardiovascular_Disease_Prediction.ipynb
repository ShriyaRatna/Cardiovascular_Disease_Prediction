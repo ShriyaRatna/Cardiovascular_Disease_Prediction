{
  "nbformat": 4,
  "nbformat_minor": 0,
  "metadata": {
    "colab": {
      "provenance": []
    },
    "kernelspec": {
      "name": "python3",
      "display_name": "Python 3"
    },
    "language_info": {
      "name": "python"
    }
  },
  "cells": [
    {
      "cell_type": "code",
      "source": [
        "import pandas as pd\n",
        "import csv"
      ],
      "metadata": {
        "id": "V9tWpse9M86P"
      },
      "execution_count": 1,
      "outputs": []
    },
    {
      "cell_type": "code",
      "source": [
        "import seaborn as sns\n",
        "import matplotlib.pyplot as plt"
      ],
      "metadata": {
        "id": "73fbeeBvVu3w"
      },
      "execution_count": null,
      "outputs": []
    },
    {
      "cell_type": "code",
      "source": [
        "df = pd.read_csv(\"/content/cardio_data_processed.csv\")"
      ],
      "metadata": {
        "id": "CJxfAoYUP6z8"
      },
      "execution_count": null,
      "outputs": []
    },
    {
      "cell_type": "markdown",
      "source": [
        "Dataset:- https://www.kaggle.com/datasets/colewelkins/cardiovascular-disease"
      ],
      "metadata": {
        "id": "XTBsFX2Eu1xU"
      }
    },
    {
      "cell_type": "code",
      "source": [
        "df.head()"
      ],
      "metadata": {
        "id": "Pqy_SChaQBIq"
      },
      "execution_count": null,
      "outputs": []
    },
    {
      "cell_type": "code",
      "source": [
        "df.isnull().sum()"
      ],
      "metadata": {
        "id": "6g8haNjoQDE6"
      },
      "execution_count": null,
      "outputs": []
    },
    {
      "cell_type": "code",
      "source": [
        "df.columns"
      ],
      "metadata": {
        "id": "g44bkFn5QMPZ"
      },
      "execution_count": null,
      "outputs": []
    },
    {
      "cell_type": "code",
      "source": [
        "df = df.drop('id', axis = 1)"
      ],
      "metadata": {
        "id": "k21j8rj_QPVZ"
      },
      "execution_count": null,
      "outputs": []
    },
    {
      "cell_type": "code",
      "source": [
        "df.duplicated().sum()"
      ],
      "metadata": {
        "id": "hU_wrjQ5QTeZ"
      },
      "execution_count": null,
      "outputs": []
    },
    {
      "cell_type": "code",
      "source": [
        "df['bp_category'].unique()"
      ],
      "metadata": {
        "id": "_a9YyV-mQ65o"
      },
      "execution_count": null,
      "outputs": []
    },
    {
      "cell_type": "code",
      "source": [
        "values = {'Normal' : 0, \"Elevated\": 1, 'Hypertension Stage 1' : 2 , 'Hypertension Stage 2' : 3}"
      ],
      "metadata": {
        "id": "NasaolndRCyo"
      },
      "execution_count": null,
      "outputs": []
    },
    {
      "cell_type": "code",
      "source": [
        "for i in range(df.shape[0]):\n",
        "  df.loc[i, 'bp_category'] = values[df['bp_category'][i]]\n",
        "  # print(df.loc[i, 'bp_category'], '-', values[df['bp_category']])"
      ],
      "metadata": {
        "id": "TqsTD1iNShGG"
      },
      "execution_count": null,
      "outputs": []
    },
    {
      "cell_type": "code",
      "source": [
        "df = df.drop('bp_category_encoded', axis=1)"
      ],
      "metadata": {
        "id": "F5SCupNFSo1F"
      },
      "execution_count": null,
      "outputs": []
    },
    {
      "cell_type": "code",
      "source": [
        "df.columns"
      ],
      "metadata": {
        "id": "25p2CckaS5_l"
      },
      "execution_count": null,
      "outputs": []
    },
    {
      "cell_type": "code",
      "source": [
        "df.corr()"
      ],
      "metadata": {
        "id": "jw_Ue1vmVB9B"
      },
      "execution_count": null,
      "outputs": []
    },
    {
      "cell_type": "code",
      "source": [
        "plt.subplots(figsize=(20,15))\n",
        "matrix = sns.heatmap(df.corr(), cmap=sns.color_palette(\"Blues\"), annot=True)"
      ],
      "metadata": {
        "id": "ZIMtdidbWWQB"
      },
      "execution_count": null,
      "outputs": []
    },
    {
      "cell_type": "code",
      "source": [
        "df = df.drop('age', axis = 1)"
      ],
      "metadata": {
        "id": "HksC9hJsW3aO"
      },
      "execution_count": null,
      "outputs": []
    },
    {
      "cell_type": "code",
      "source": [
        "df.rename(columns={'age_years':'age'}, inplace=True)"
      ],
      "metadata": {
        "id": "MLETt0CmZe9q"
      },
      "execution_count": null,
      "outputs": []
    },
    {
      "cell_type": "code",
      "source": [
        "df"
      ],
      "metadata": {
        "id": "CizNrYdXZu55"
      },
      "execution_count": null,
      "outputs": []
    },
    {
      "cell_type": "code",
      "source": [
        "plt.subplots(figsize=(20,15))\n",
        "new_matrix = sns.heatmap(df.corr(), cmap=sns.color_palette(\"Blues\"), annot=True)\n",
        "new_matrix"
      ],
      "metadata": {
        "id": "uYsf2kXFZvk5"
      },
      "execution_count": null,
      "outputs": []
    },
    {
      "cell_type": "code",
      "source": [
        "plt.subplots(figsize=(20,15))\n",
        "new_matrix1 = sns.heatmap(df.corr(method='kendall'), cmap=sns.color_palette(\"Blues\"), annot=True)\n",
        "new_matrix1"
      ],
      "metadata": {
        "id": "H0f_dWHpavBo"
      },
      "execution_count": null,
      "outputs": []
    },
    {
      "cell_type": "code",
      "source": [
        "new_df = df.drop(['gender', 'height', 'smoke', 'alco', 'active'], axis = 1)\n",
        "new_df.head()"
      ],
      "metadata": {
        "id": "MPaUY9cvbT2n"
      },
      "execution_count": null,
      "outputs": []
    },
    {
      "cell_type": "code",
      "source": [
        "for i in range(new_df.shape[0]):\n",
        "  new_df.loc[i, 'bmi'] = int(new_df['bmi'][i])\n",
        "new_df.head()"
      ],
      "metadata": {
        "id": "lXkehg_QbxJ2"
      },
      "execution_count": null,
      "outputs": []
    },
    {
      "cell_type": "markdown",
      "source": [
        "# Decision Tree"
      ],
      "metadata": {
        "id": "beIzeybsAacZ"
      }
    },
    {
      "cell_type": "code",
      "source": [
        "from sklearn.tree import DecisionTreeClassifier\n",
        "from sklearn.model_selection import train_test_split\n",
        "from sklearn import metrics"
      ],
      "metadata": {
        "id": "7Rqq_hKAAd7T"
      },
      "execution_count": null,
      "outputs": []
    },
    {
      "cell_type": "code",
      "source": [
        "X = new_df.drop('cardio', axis = 1)\n",
        "y = new_df['cardio']"
      ],
      "metadata": {
        "id": "ESwBdbSpAqMC"
      },
      "execution_count": null,
      "outputs": []
    },
    {
      "cell_type": "code",
      "source": [
        "X_train, X_test, y_train, y_test = train_test_split(X, y, test_size = 0.2, random_state = 1)"
      ],
      "metadata": {
        "id": "2v8NRVVvA1YY"
      },
      "execution_count": null,
      "outputs": []
    },
    {
      "cell_type": "code",
      "source": [
        "clf = DecisionTreeClassifier(criterion=\"entropy\", max_depth = 3)"
      ],
      "metadata": {
        "id": "aem5chhjBBz2"
      },
      "execution_count": null,
      "outputs": []
    },
    {
      "cell_type": "code",
      "source": [
        "clf = clf.fit(X_train, y_train)"
      ],
      "metadata": {
        "id": "gsyUaVr2BN_o"
      },
      "execution_count": null,
      "outputs": []
    },
    {
      "cell_type": "code",
      "source": [
        "y_pred = clf.predict(X_test)"
      ],
      "metadata": {
        "id": "PsGTXjZFBU1D"
      },
      "execution_count": null,
      "outputs": []
    },
    {
      "cell_type": "code",
      "source": [
        "print(\"Accuracy:\", metrics.accuracy_score(y_test, y_pred))"
      ],
      "metadata": {
        "id": "tRD5QtRgBYMH"
      },
      "execution_count": null,
      "outputs": []
    },
    {
      "cell_type": "code",
      "source": [
        "from sklearn.model_selection import cross_val_score, KFold\n",
        "from sklearn.svm import SVC\n",
        "from sklearn.datasets import load_iris"
      ],
      "metadata": {
        "id": "VIR6eIDOKSU8"
      },
      "execution_count": null,
      "outputs": []
    },
    {
      "cell_type": "code",
      "source": [
        "num_folds = 10\n",
        "kf = KFold(n_splits=num_folds, shuffle=True, random_state=42)"
      ],
      "metadata": {
        "id": "7p439EqsBcm9"
      },
      "execution_count": null,
      "outputs": []
    },
    {
      "cell_type": "code",
      "source": [
        "cross_val_results = cross_val_score(clf, X, y, cv=kf)"
      ],
      "metadata": {
        "id": "RfmwnSFMKQIa"
      },
      "execution_count": null,
      "outputs": []
    },
    {
      "cell_type": "code",
      "source": [
        "print(f'Cross-Validation Results (Accuracy): {cross_val_results}')\n",
        "print(f'Mean Accuracy: {cross_val_results.mean()}')"
      ],
      "metadata": {
        "id": "izk90lePKWnt"
      },
      "execution_count": null,
      "outputs": []
    },
    {
      "cell_type": "code",
      "source": [],
      "metadata": {
        "id": "Ket57glEKZBW"
      },
      "execution_count": null,
      "outputs": []
    }
  ]
}